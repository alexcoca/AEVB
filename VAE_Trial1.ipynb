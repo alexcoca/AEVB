{
 "cells": [
  {
   "cell_type": "code",
   "execution_count": 1,
   "metadata": {
    "collapsed": true
   },
   "outputs": [],
   "source": [
    "from torch.autograd import Variable"
   ]
  },
  {
   "cell_type": "code",
   "execution_count": 2,
   "metadata": {
    "collapsed": true
   },
   "outputs": [],
   "source": [
    "import torch\n",
    "import numpy as np\n",
    "import matplotlib.pyplot as plt\n",
    "import torch.nn.functional as F"
   ]
  },
  {
   "cell_type": "code",
   "execution_count": 3,
   "metadata": {},
   "outputs": [],
   "source": [
    "import VAE_NN\n",
    "from torchvision import datasets, transforms"
   ]
  },
  {
   "cell_type": "code",
   "execution_count": 4,
   "metadata": {
    "collapsed": true
   },
   "outputs": [],
   "source": [
    "from torch.optim import Adam"
   ]
  },
  {
   "cell_type": "code",
   "execution_count": 5,
   "metadata": {
    "collapsed": true
   },
   "outputs": [],
   "source": [
    "test = VAE_NN.VAE_Net()"
   ]
  },
  {
   "cell_type": "code",
   "execution_count": 6,
   "metadata": {},
   "outputs": [
    {
     "data": {
      "text/plain": [
       "VAE_Net(\n",
       "  (ei): Linear(in_features=784, out_features=500)\n",
       "  (em): Linear(in_features=500, out_features=20)\n",
       "  (ev): Linear(in_features=500, out_features=20)\n",
       "  (di): Linear(in_features=20, out_features=500)\n",
       "  (do): Linear(in_features=500, out_features=784)\n",
       ")"
      ]
     },
     "execution_count": 6,
     "metadata": {},
     "output_type": "execute_result"
    }
   ],
   "source": [
    "test.cuda()"
   ]
  },
  {
   "cell_type": "code",
   "execution_count": 7,
   "metadata": {
    "collapsed": true
   },
   "outputs": [],
   "source": [
    "optimizer = Adam(test.parameters(),lr=1e-3)"
   ]
  },
  {
   "cell_type": "code",
   "execution_count": 8,
   "metadata": {},
   "outputs": [],
   "source": [
    "train_data,_ = VAE_NN.get_data_loaders(b_size=128)"
   ]
  },
  {
   "cell_type": "code",
   "execution_count": 39,
   "metadata": {
    "collapsed": true
   },
   "outputs": [],
   "source": [
    "import time"
   ]
  },
  {
   "cell_type": "code",
   "execution_count": 41,
   "metadata": {},
   "outputs": [
    {
     "data": {
      "text/plain": [
       "1518228049.172097"
      ]
     },
     "execution_count": 41,
     "metadata": {},
     "output_type": "execute_result"
    }
   ],
   "source": [
    "time.time()"
   ]
  },
  {
   "cell_type": "code",
   "execution_count": 43,
   "metadata": {
    "scrolled": true
   },
   "outputs": [
    {
     "name": "stdout",
     "output_type": "stream",
     "text": [
      "Seconds for 10 epcohs: 52\n"
     ]
    }
   ],
   "source": [
    "t = time.time()\n",
    "VAE_NN.train(test,optimizer,train_data, VAE_NN.elbo_loss, epochs = 10)\n",
    "t_e = time.time() - t\n",
    "print('Seconds for 10 epcohs: %d' % t_e)"
   ]
  },
  {
   "cell_type": "code",
   "execution_count": 20,
   "metadata": {
    "collapsed": true
   },
   "outputs": [],
   "source": [
    "t_data,_ = next(iter(train_data))"
   ]
  },
  {
   "cell_type": "code",
   "execution_count": 21,
   "metadata": {
    "collapsed": true
   },
   "outputs": [],
   "source": [
    "t_data = Variable(t_data).view(-1,784)"
   ]
  },
  {
   "cell_type": "code",
   "execution_count": 22,
   "metadata": {
    "collapsed": true
   },
   "outputs": [],
   "source": [
    "i = 11"
   ]
  },
  {
   "cell_type": "code",
   "execution_count": 25,
   "metadata": {
    "scrolled": true
   },
   "outputs": [
    {
     "data": {
      "image/png": "[encoded data removed]",
      "text/plain": [
       "<matplotlib.figure.Figure at 0x7f7306d8dda0>"
      ]
     },
     "metadata": {},
     "output_type": "display_data"
    }
   ],
   "source": [
    "plt.imshow(np.reshape(t_data[i].data.cpu().numpy(),(28,28)), cmap='gray')\n",
    "plt.show()"
   ]
  },
  {
   "cell_type": "code",
   "execution_count": 33,
   "metadata": {},
   "outputs": [
    {
     "data": {
      "image/png": "[encoded data removed]",
      "text/plain": [
       "<matplotlib.figure.Figure at 0x7f7305b96748>"
      ]
     },
     "metadata": {},
     "output_type": "display_data"
    }
   ],
   "source": [
    "a,b,c = test(t_data[i].cuda())\n",
    "\n",
    "im_t = a\n",
    "\n",
    "im_t = im_t.data.cpu().numpy()\n",
    "\n",
    "plt.imshow(np.reshape(im_t,(28,28)),cmap='gray')\n",
    "plt.show()"
   ]
  },
  {
   "cell_type": "code",
   "execution_count": 38,
   "metadata": {},
   "outputs": [
    {
     "data": {
      "image/png": "[encoded data removed]",
      "text/plain": [
       "<matplotlib.figure.Figure at 0x7f7306e1e2e8>"
      ]
     },
     "metadata": {},
     "output_type": "display_data"
    }
   ],
   "source": [
    "a = test.sample()\n",
    "\n",
    "a = test.decode(a)\n",
    "\n",
    "im_t = a\n",
    "\n",
    "im_t = im_t.data.cpu().numpy()\n",
    "\n",
    "plt.imshow(np.reshape(im_t,(28,28)),cmap='gray')\n",
    "plt.show()"
   ]
  },
  {
   "cell_type": "code",
   "execution_count": 18,
   "metadata": {},
   "outputs": [
    {
     "data": {
      "text/plain": [
       "\n",
       "-0.5970\n",
       "-0.4500\n",
       "-0.8260\n",
       " 2.2261\n",
       "-0.8141\n",
       "-1.1682\n",
       "-0.1819\n",
       " 1.2196\n",
       " 2.1225\n",
       " 0.3877\n",
       "[torch.cuda.FloatTensor of size 10 (GPU 0)]"
      ]
     },
     "execution_count": 18,
     "metadata": {},
     "output_type": "execute_result"
    }
   ],
   "source": [
    "torch.randn(10).cuda()"
   ]
  },
  {
   "cell_type": "code",
   "execution_count": 72,
   "metadata": {},
   "outputs": [],
   "source": [
    "std = b.mul(0.5).exp_()\n"
   ]
  },
  {
   "cell_type": "code",
   "execution_count": 73,
   "metadata": {},
   "outputs": [
    {
     "data": {
      "text/plain": [
       "Variable containing:\n",
       " 0.9994\n",
       " 0.9997\n",
       " 0.9999\n",
       " 1.0003\n",
       " 0.9992\n",
       " 1.0015\n",
       " 0.9995\n",
       " 1.0005\n",
       " 0.9992\n",
       " 0.9988\n",
       " 0.9995\n",
       " 1.0005\n",
       " 0.9996\n",
       " 1.0010\n",
       " 0.9994\n",
       " 1.0015\n",
       " 0.9998\n",
       " 1.0004\n",
       " 1.0005\n",
       " 0.9986\n",
       "[torch.cuda.FloatTensor of size 20 (GPU 0)]"
      ]
     },
     "execution_count": 73,
     "metadata": {},
     "output_type": "execute_result"
    }
   ],
   "source": [
    "std"
   ]
  },
  {
   "cell_type": "code",
   "execution_count": 74,
   "metadata": {},
   "outputs": [
    {
     "data": {
      "text/plain": [
       "Variable containing:\n",
       "-0.0348\n",
       " 0.7231\n",
       " 1.5674\n",
       " 1.2449\n",
       " 0.6941\n",
       "-0.9312\n",
       " 0.4566\n",
       "-0.5053\n",
       "-0.1246\n",
       " 1.5592\n",
       " 0.9387\n",
       "-0.0171\n",
       " 0.7142\n",
       " 0.6327\n",
       "-0.4006\n",
       " 1.4741\n",
       " 0.1032\n",
       "-0.3437\n",
       " 0.6125\n",
       "-0.2460\n",
       "[torch.cuda.FloatTensor of size 20 (GPU 0)]"
      ]
     },
     "execution_count": 74,
     "metadata": {},
     "output_type": "execute_result"
    }
   ],
   "source": [
    "Variable(std.data.new(std.size()).normal_())"
   ]
  },
  {
   "cell_type": "code",
   "execution_count": null,
   "metadata": {
    "collapsed": true
   },
   "outputs": [],
   "source": []
  },
  {
   "cell_type": "code",
   "execution_count": null,
   "metadata": {
    "collapsed": true
   },
   "outputs": [],
   "source": []
  },
  {
   "cell_type": "code",
   "execution_count": 21,
   "metadata": {},
   "outputs": [
    {
     "data": {
      "text/plain": [
       "torch.Size([128, 20])"
      ]
     },
     "execution_count": 21,
     "metadata": {},
     "output_type": "execute_result"
    }
   ],
   "source": [
    "v.size()"
   ]
  },
  {
   "cell_type": "code",
   "execution_count": 47,
   "metadata": {},
   "outputs": [],
   "source": [
    "t_m = 0\n",
    "for mean in m:\n",
    "    t_m += mean.dot(mean)"
   ]
  },
  {
   "cell_type": "code",
   "execution_count": 61,
   "metadata": {},
   "outputs": [],
   "source": [
    "ve = v.exp()"
   ]
  },
  {
   "cell_type": "code",
   "execution_count": 76,
   "metadata": {},
   "outputs": [
    {
     "data": {
      "text/plain": [
       "Variable containing:\n",
       "-290.5010\n",
       "[torch.FloatTensor of size 1]"
      ]
     },
     "execution_count": 76,
     "metadata": {},
     "output_type": "execute_result"
    }
   ],
   "source": [
    "v.sum()"
   ]
  },
  {
   "cell_type": "code",
   "execution_count": 77,
   "metadata": {},
   "outputs": [
    {
     "data": {
      "text/plain": [
       "Variable containing:\n",
       " 0.0386  0.0834  0.0009  ...  -0.3004 -0.4756 -0.2290\n",
       " 0.0486  0.0809  0.0016  ...  -0.3021 -0.4997 -0.2592\n",
       " 0.0419  0.0783  0.0002  ...  -0.3131 -0.4769 -0.2440\n",
       "          ...             ⋱             ...          \n",
       " 0.0392  0.1011  0.0137  ...  -0.3390 -0.5280 -0.2393\n",
       " 0.0541  0.0473 -0.0428  ...  -0.3001 -0.4944 -0.2292\n",
       " 0.0799  0.0996 -0.0117  ...  -0.2605 -0.5073 -0.2742\n",
       "[torch.FloatTensor of size 128x20]"
      ]
     },
     "execution_count": 77,
     "metadata": {},
     "output_type": "execute_result"
    }
   ],
   "source": [
    "ve.log()"
   ]
  },
  {
   "cell_type": "code",
   "execution_count": 22,
   "metadata": {},
   "outputs": [
    {
     "data": {
      "text/plain": [
       "torch.Size([128])"
      ]
     },
     "execution_count": 22,
     "metadata": {},
     "output_type": "execute_result"
    }
   ],
   "source": [
    "v.sum(1).size()"
   ]
  },
  {
   "cell_type": "code",
   "execution_count": 25,
   "metadata": {},
   "outputs": [
    {
     "data": {
      "text/plain": [
       "1.8428255154387092"
      ]
     },
     "execution_count": 25,
     "metadata": {},
     "output_type": "execute_result"
    }
   ],
   "source": [
    "np.exp(0.6113)"
   ]
  },
  {
   "cell_type": "code",
   "execution_count": 26,
   "metadata": {},
   "outputs": [
    {
     "data": {
      "text/plain": [
       "Variable containing:\n",
       " 1.8428\n",
       "[torch.FloatTensor of size 1]"
      ]
     },
     "execution_count": 26,
     "metadata": {},
     "output_type": "execute_result"
    }
   ],
   "source": [
    "v.sum()"
   ]
  },
  {
   "cell_type": "code",
   "execution_count": null,
   "metadata": {
    "collapsed": true
   },
   "outputs": [],
   "source": [
    "F.mse_loss()"
   ]
  },
  {
   "cell_type": "code",
   "execution_count": 23,
   "metadata": {},
   "outputs": [
    {
     "data": {
      "text/plain": [
       "20"
      ]
     },
     "execution_count": 23,
     "metadata": {},
     "output_type": "execute_result"
    }
   ],
   "source": [
    "m.size()[2]"
   ]
  },
  {
   "cell_type": "code",
   "execution_count": 51,
   "metadata": {},
   "outputs": [],
   "source": [
    "train_loader = torch.utils.data.DataLoader(\n",
    "        datasets.MNIST('../data', train=True, download=True,\n",
    "                       transform=transforms.ToTensor()),\n",
    "                        batch_size=128, shuffle=True)"
   ]
  },
  {
   "cell_type": "code",
   "execution_count": 52,
   "metadata": {
    "collapsed": true
   },
   "outputs": [],
   "source": [
    "a = next(iter(train_loader))"
   ]
  },
  {
   "cell_type": "code",
   "execution_count": 25,
   "metadata": {
    "collapsed": true
   },
   "outputs": [],
   "source": [
    "b = torch.FloatTensor([20.0]*20)"
   ]
  },
  {
   "cell_type": "code",
   "execution_count": 42,
   "metadata": {},
   "outputs": [
    {
     "data": {
      "text/plain": [
       "\n",
       " 4.4721\n",
       " 4.4721\n",
       " 4.4721\n",
       " 4.4721\n",
       " 4.4721\n",
       " 4.4721\n",
       " 4.4721\n",
       " 4.4721\n",
       " 4.4721\n",
       " 4.4721\n",
       " 4.4721\n",
       " 4.4721\n",
       " 4.4721\n",
       " 4.4721\n",
       " 4.4721\n",
       " 4.4721\n",
       " 4.4721\n",
       " 4.4721\n",
       " 4.4721\n",
       " 4.4721\n",
       "[torch.FloatTensor of size 20]"
      ]
     },
     "execution_count": 42,
     "metadata": {},
     "output_type": "execute_result"
    }
   ],
   "source": [
    "b**(0.5)"
   ]
  },
  {
   "cell_type": "code",
   "execution_count": 37,
   "metadata": {},
   "outputs": [
    {
     "data": {
      "text/plain": [
       "\n",
       " 21.4627\n",
       " -3.5977\n",
       "-26.5967\n",
       " -9.6946\n",
       " 22.6051\n",
       " -2.6244\n",
       "-25.5246\n",
       "-50.0984\n",
       "-11.8427\n",
       "-29.2619\n",
       " 16.8970\n",
       "  1.0061\n",
       "-20.1975\n",
       " 16.6405\n",
       " -6.8160\n",
       " -7.9877\n",
       "  1.2436\n",
       " 12.1576\n",
       "-30.6637\n",
       "-37.0371\n",
       "[torch.FloatTensor of size 20]"
      ]
     },
     "execution_count": 37,
     "metadata": {},
     "output_type": "execute_result"
    }
   ],
   "source": [
    "torch.Tensor.mul(torch.randn(20),b)"
   ]
  }
 ],
 "metadata": {
  "kernelspec": {
   "display_name": "Python 3",
   "language": "python",
   "name": "python3"
  },
  "language_info": {
   "codemirror_mode": {
    "name": "ipython",
    "version": 3
   },
   "file_extension": ".py",
   "mimetype": "text/x-python",
   "name": "python",
   "nbconvert_exporter": "python",
   "pygments_lexer": "ipython3",
   "version": "3.6.3"
  }
 },
 "nbformat": 4,
 "nbformat_minor": 2
}
