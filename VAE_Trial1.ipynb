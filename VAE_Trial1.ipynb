{
 "cells": [
  {
   "cell_type": "code",
   "execution_count": 1,
   "metadata": {
    "collapsed": true
   },
   "outputs": [],
   "source": [
    "from torch.autograd import Variable"
   ]
  },
  {
   "cell_type": "code",
   "execution_count": 2,
   "metadata": {
    "collapsed": true
   },
   "outputs": [],
   "source": [
    "import torch\n",
    "import numpy as np\n",
    "import matplotlib.pyplot as plt\n",
    "import torch.nn.functional as F"
   ]
  },
  {
   "cell_type": "code",
   "execution_count": 3,
   "metadata": {},
   "outputs": [],
   "source": [
    "import VAE_NN\n",
    "from torchvision import datasets, transforms"
   ]
  },
  {
   "cell_type": "code",
   "execution_count": 4,
   "metadata": {
    "collapsed": true
   },
   "outputs": [],
   "source": [
    "from torch.optim import Adam"
   ]
  },
  {
   "cell_type": "code",
   "execution_count": 5,
   "metadata": {
    "collapsed": true
   },
   "outputs": [],
   "source": [
    "test = VAE_NN.VAE_Net()"
   ]
  },
  {
   "cell_type": "code",
   "execution_count": 6,
   "metadata": {},
   "outputs": [
    {
     "data": {
      "text/plain": [
       "VAE_Net(\n",
       "  (ei): Linear(in_features=784, out_features=500)\n",
       "  (em): Linear(in_features=500, out_features=20)\n",
       "  (ev): Linear(in_features=500, out_features=20)\n",
       "  (di): Linear(in_features=20, out_features=500)\n",
       "  (do): Linear(in_features=500, out_features=784)\n",
       ")"
      ]
     },
     "execution_count": 6,
     "metadata": {},
     "output_type": "execute_result"
    }
   ],
   "source": [
    "test.cuda()"
   ]
  },
  {
   "cell_type": "code",
   "execution_count": 7,
   "metadata": {
    "collapsed": true
   },
   "outputs": [],
   "source": [
    "optimizer = Adam(test.parameters(),lr=1e-3)"
   ]
  },
  {
   "cell_type": "code",
   "execution_count": 8,
   "metadata": {},
   "outputs": [],
   "source": [
    "train_data,_ = VAE_NN.get_data_loaders(b_size=128)"
   ]
  },
  {
   "cell_type": "code",
   "execution_count": 9,
   "metadata": {
    "collapsed": true
   },
   "outputs": [],
   "source": [
    "import time"
   ]
  },
  {
   "cell_type": "code",
   "execution_count": null,
   "metadata": {},
   "outputs": [
    {
     "data": {
      "text/plain": [
       "390.625"
      ]
     },
     "execution_count": 10,
     "metadata": {},
     "output_type": "execute_result"
    }
   ],
   "source": [
    "50000/128."
   ]
  },
  {
   "cell_type": "code",
   "execution_count": null,
   "metadata": {
    "scrolled": false
   },
   "outputs": [
    {
     "name": "stderr",
     "output_type": "stream",
     "text": [
      "\r",
      "  0%|          | 0/10 [00:00<?, ?it/s]"
     ]
    },
    {
     "name": "stdout",
     "output_type": "stream",
     "text": [
      "Train Epoch: 0 [0/60000 (0%)]\tLoss: 23782.017578\n",
      "Train Epoch: 0 [6400/60000 (11%)]\tLoss: 6806.208984\n",
      "Train Epoch: 0 [12800/60000 (21%)]\tLoss: 6802.060547\n",
      "Train Epoch: 0 [19200/60000 (32%)]\tLoss: 6403.404297\n",
      "Train Epoch: 0 [25600/60000 (43%)]\tLoss: 6847.664551\n",
      "Train Epoch: 0 [32000/60000 (53%)]\tLoss: 6468.684570\n",
      "Train Epoch: 0 [38400/60000 (64%)]\tLoss: 6036.093750\n",
      "Train Epoch: 0 [44800/60000 (75%)]\tLoss: 6099.955078\n",
      "Train Epoch: 0 [51200/60000 (85%)]\tLoss: 5875.218262\n",
      "Train Epoch: 0 [57600/60000 (96%)]\tLoss: 5980.428711\n"
     ]
    },
    {
     "name": "stderr",
     "output_type": "stream",
     "text": [
      "\r",
      " 10%|█         | 1/10 [00:07<01:03,  7.07s/it]"
     ]
    },
    {
     "name": "stdout",
     "output_type": "stream",
     "text": [
      "Train Epoch: 1 [0/60000 (0%)]\tLoss: 6164.286133\n",
      "Train Epoch: 1 [6400/60000 (11%)]\tLoss: 5851.016113\n",
      "Train Epoch: 1 [12800/60000 (21%)]\tLoss: 5798.784180\n",
      "Train Epoch: 1 [19200/60000 (32%)]\tLoss: 6794.125000\n",
      "Train Epoch: 1 [25600/60000 (43%)]\tLoss: 6405.789062\n",
      "Train Epoch: 1 [32000/60000 (53%)]\tLoss: 6057.651367\n",
      "Train Epoch: 1 [38400/60000 (64%)]\tLoss: 5476.463379\n",
      "Train Epoch: 1 [44800/60000 (75%)]\tLoss: 5665.092773\n",
      "Train Epoch: 1 [51200/60000 (85%)]\tLoss: 5678.014648\n",
      "Train Epoch: 1 [57600/60000 (96%)]\tLoss: 5914.205078\n"
     ]
    },
    {
     "name": "stderr",
     "output_type": "stream",
     "text": [
      "\r",
      " 20%|██        | 2/10 [00:13<00:54,  6.77s/it]"
     ]
    },
    {
     "name": "stdout",
     "output_type": "stream",
     "text": [
      "Train Epoch: 2 [0/60000 (0%)]\tLoss: 6056.485352\n",
      "Train Epoch: 2 [6400/60000 (11%)]\tLoss: 5604.633301\n",
      "Train Epoch: 2 [12800/60000 (21%)]\tLoss: 5393.307129\n",
      "Train Epoch: 2 [19200/60000 (32%)]\tLoss: 5615.689453\n",
      "Train Epoch: 2 [25600/60000 (43%)]\tLoss: 5279.047363\n",
      "Train Epoch: 2 [32000/60000 (53%)]\tLoss: 5377.243164\n",
      "Train Epoch: 2 [38400/60000 (64%)]\tLoss: 5591.822754\n",
      "Train Epoch: 2 [44800/60000 (75%)]\tLoss: 6603.975098\n",
      "Train Epoch: 2 [51200/60000 (85%)]\tLoss: 5225.384277\n",
      "Train Epoch: 2 [57600/60000 (96%)]\tLoss: 5498.342773\n"
     ]
    },
    {
     "name": "stderr",
     "output_type": "stream",
     "text": [
      "\r",
      " 30%|███       | 3/10 [00:20<00:47,  6.81s/it]"
     ]
    },
    {
     "name": "stdout",
     "output_type": "stream",
     "text": [
      "Train Epoch: 3 [0/60000 (0%)]\tLoss: 5540.772949\n",
      "Train Epoch: 3 [6400/60000 (11%)]\tLoss: 5225.194336\n",
      "Train Epoch: 3 [12800/60000 (21%)]\tLoss: 5402.568848\n",
      "Train Epoch: 3 [19200/60000 (32%)]\tLoss: 5333.299805\n",
      "Train Epoch: 3 [25600/60000 (43%)]\tLoss: 5360.607910\n",
      "Train Epoch: 3 [32000/60000 (53%)]\tLoss: 5530.414062\n",
      "Train Epoch: 3 [38400/60000 (64%)]\tLoss: 5543.330566\n",
      "Train Epoch: 3 [44800/60000 (75%)]\tLoss: 5634.647949\n",
      "Train Epoch: 3 [51200/60000 (85%)]\tLoss: 5177.716309\n",
      "Train Epoch: 3 [57600/60000 (96%)]\tLoss: 4896.424316\n"
     ]
    },
    {
     "name": "stderr",
     "output_type": "stream",
     "text": [
      "\r",
      " 40%|████      | 4/10 [00:27<00:41,  6.87s/it]"
     ]
    },
    {
     "name": "stdout",
     "output_type": "stream",
     "text": [
      "Train Epoch: 4 [0/60000 (0%)]\tLoss: 5929.433594\n",
      "Train Epoch: 4 [6400/60000 (11%)]\tLoss: 5623.728516\n",
      "Train Epoch: 4 [12800/60000 (21%)]\tLoss: 5112.111328\n",
      "Train Epoch: 4 [19200/60000 (32%)]\tLoss: 5667.753418\n",
      "Train Epoch: 4 [25600/60000 (43%)]\tLoss: 6063.733887\n",
      "Train Epoch: 4 [32000/60000 (53%)]\tLoss: 6210.911133\n",
      "Train Epoch: 4 [38400/60000 (64%)]\tLoss: 5469.195801\n",
      "Train Epoch: 4 [44800/60000 (75%)]\tLoss: 4997.297852\n",
      "Train Epoch: 4 [51200/60000 (85%)]\tLoss: 5261.555176\n",
      "Train Epoch: 4 [57600/60000 (96%)]\tLoss: 4605.063477\n"
     ]
    },
    {
     "name": "stderr",
     "output_type": "stream",
     "text": [
      "\r",
      " 50%|█████     | 5/10 [00:34<00:34,  6.87s/it]"
     ]
    },
    {
     "name": "stdout",
     "output_type": "stream",
     "text": [
      "Train Epoch: 5 [0/60000 (0%)]\tLoss: 5291.586914\n",
      "Train Epoch: 5 [6400/60000 (11%)]\tLoss: 5260.534180\n",
      "Train Epoch: 5 [12800/60000 (21%)]\tLoss: 5029.209473\n",
      "Train Epoch: 5 [19200/60000 (32%)]\tLoss: 4846.394531\n",
      "Train Epoch: 5 [25600/60000 (43%)]\tLoss: 5099.772461\n",
      "Train Epoch: 5 [32000/60000 (53%)]\tLoss: 5560.720215\n",
      "Train Epoch: 5 [38400/60000 (64%)]\tLoss: 4956.737305\n",
      "Train Epoch: 5 [44800/60000 (75%)]\tLoss: 5312.113281\n",
      "Train Epoch: 5 [51200/60000 (85%)]\tLoss: 5891.943359\n",
      "Train Epoch: 5 [57600/60000 (96%)]\tLoss: 5713.438477\n"
     ]
    },
    {
     "name": "stderr",
     "output_type": "stream",
     "text": [
      "\r",
      " 60%|██████    | 6/10 [00:41<00:27,  6.94s/it]"
     ]
    },
    {
     "name": "stdout",
     "output_type": "stream",
     "text": [
      "Train Epoch: 6 [0/60000 (0%)]\tLoss: 4945.082520\n",
      "Train Epoch: 6 [6400/60000 (11%)]\tLoss: 5100.629883\n",
      "Train Epoch: 6 [12800/60000 (21%)]\tLoss: 5024.314453\n",
      "Train Epoch: 6 [19200/60000 (32%)]\tLoss: 5268.302734\n",
      "Train Epoch: 6 [25600/60000 (43%)]\tLoss: 5113.369629\n",
      "Train Epoch: 6 [32000/60000 (53%)]\tLoss: 4818.527344\n",
      "Train Epoch: 6 [38400/60000 (64%)]\tLoss: 5338.735352\n",
      "Train Epoch: 6 [44800/60000 (75%)]\tLoss: 4893.877930\n",
      "Train Epoch: 6 [51200/60000 (85%)]\tLoss: 5017.566406\n",
      "Train Epoch: 6 [57600/60000 (96%)]\tLoss: 5642.212402\n"
     ]
    }
   ],
   "source": [
    "t = time.time()\n",
    "ep = 10\n",
    "VAE_NN.train(test,optimizer,train_data, VAE_NN.elbo_loss, epochs = ep)\n",
    "t_e = time.time() - t\n",
    "print('Seconds for %d epcohs: %d' % (ep,t_e))"
   ]
  },
  {
   "cell_type": "code",
   "execution_count": 11,
   "metadata": {
    "collapsed": true
   },
   "outputs": [],
   "source": [
    "t_data,_ = next(iter(train_data))"
   ]
  },
  {
   "cell_type": "code",
   "execution_count": 12,
   "metadata": {
    "collapsed": true
   },
   "outputs": [],
   "source": [
    "t_data = Variable(t_data).view(-1,784)"
   ]
  },
  {
   "cell_type": "code",
   "execution_count": 13,
   "metadata": {
    "collapsed": true
   },
   "outputs": [],
   "source": [
    "i = 10"
   ]
  },
  {
   "cell_type": "code",
   "execution_count": 14,
   "metadata": {
    "scrolled": true
   },
   "outputs": [
    {
     "data": {
      "image/png": "[encoded data removed]",
      "text/plain": [
       "<matplotlib.figure.Figure at 0x7f3ad31d3748>"
      ]
     },
     "metadata": {},
     "output_type": "display_data"
    }
   ],
   "source": [
    "plt.imshow(np.reshape(t_data[i].data.cpu().numpy(),(28,28)), cmap='gray')\n",
    "plt.show()"
   ]
  },
  {
   "cell_type": "code",
   "execution_count": 18,
   "metadata": {},
   "outputs": [
    {
     "data": {
      "image/png": "[encoded data removed]",
      "text/plain": [
       "<matplotlib.figure.Figure at 0x7f3ad31dda20>"
      ]
     },
     "metadata": {},
     "output_type": "display_data"
    }
   ],
   "source": [
    "a,b,c = test(t_data[i].cuda())\n",
    "\n",
    "im_t = a\n",
    "\n",
    "im_t = im_t.data.cpu().numpy()\n",
    "\n",
    "plt.imshow(np.reshape(im_t,(28,28)),cmap='gray')\n",
    "plt.show()"
   ]
  },
  {
   "cell_type": "code",
   "execution_count": 20,
   "metadata": {
    "scrolled": true
   },
   "outputs": [
    {
     "data": {
      "image/png": "[encoded data removed]",
      "text/plain": [
       "<matplotlib.figure.Figure at 0x7f3ad3007438>"
      ]
     },
     "metadata": {},
     "output_type": "display_data"
    }
   ],
   "source": [
    "a = test.sample()\n",
    "\n",
    "a = test.decode(a)\n",
    "\n",
    "im_t = a\n",
    "\n",
    "im_t = im_t.data.cpu().numpy()\n",
    "\n",
    "plt.imshow(np.reshape(im_t,(28,28)),cmap='gray')\n",
    "plt.show()"
   ]
  }
 ],
 "metadata": {
  "kernelspec": {
   "display_name": "Python 3",
   "language": "python",
   "name": "python3"
  },
  "language_info": {
   "codemirror_mode": {
    "name": "ipython",
    "version": 3
   },
   "file_extension": ".py",
   "mimetype": "text/x-python",
   "name": "python",
   "nbconvert_exporter": "python",
   "pygments_lexer": "ipython3",
   "version": "3.6.3"
  }
 },
 "nbformat": 4,
 "nbformat_minor": 2
}
